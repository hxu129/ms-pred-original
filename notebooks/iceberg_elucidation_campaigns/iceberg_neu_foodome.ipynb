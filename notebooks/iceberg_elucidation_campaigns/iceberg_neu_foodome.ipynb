{
 "cells": [
  {
   "cell_type": "code",
   "execution_count": 1,
   "id": "d33e50b5e6319b24",
   "metadata": {
    "collapsed": false,
    "jupyter": {
     "outputs_hidden": false
    }
   },
   "outputs": [
    {
     "name": "stderr",
     "output_type": "stream",
     "text": [
      "/home/roger/miniforge3/envs/ms-main/lib/python3.9/site-packages/tqdm/auto.py:21: TqdmWarning: IProgress not found. Please update jupyter and ipywidgets. See https://ipywidgets.readthedocs.io/en/stable/user_install.html\n",
      "  from .autonotebook import tqdm as notebook_tqdm\n"
     ]
    }
   ],
   "source": [
    "%load_ext autoreload\n",
    "%autoreload 2\n",
    "\n",
    "import copy\n",
    "import os\n",
    "import sys\n",
    "from pathlib import Path\n",
    "import subprocess\n",
    "from platformdirs import user_cache_dir\n",
    "from tqdm import tqdm\n",
    "\n",
    "import pandas as pd\n",
    "import numpy as np\n",
    "import matplotlib.pyplot as plt\n",
    "from rdkit import Chem\n",
    "from rdkit.Chem import Draw, AllChem\n",
    "\n",
    "import ms_pred.common as common\n",
    "from ms_pred.dag_pred.iceberg_elucidation import candidates_from_pubchem, iceberg_prediction, load_real_spec, load_pred_spec, elucidation_over_candidates, plot_top_mols, explain_peaks, modi_finder, generate_buyable_report, load_global_config"
   ]
  },
  {
   "cell_type": "code",
   "execution_count": 2,
   "id": "91821cf8b10033d2",
   "metadata": {
    "collapsed": false,
    "jupyter": {
     "outputs_hidden": false
    }
   },
   "outputs": [
    {
     "name": "stdout",
     "output_type": "stream",
     "text": [
      "/mnt/c/Users/runzh/OneDrive/Documents/2023/ms-pred\n"
     ]
    }
   ],
   "source": [
    "%cd /home/roger/ms-pred"
   ]
  },
  {
   "cell_type": "markdown",
   "id": "01543244",
   "metadata": {
    "collapsed": false,
    "jupyter": {
     "outputs_hidden": false
    }
   },
   "source": [
    "# Global configs\n",
    "Please modify the the configs in `configs/iceberg/iceberg_elucidation.yaml` accordingly; for `python_path` on molgpu, you can either\n",
    "1) set up your own ms-gen environment from source\n",
    "2) use Mrunali's pre-built environment, after telling conda to look in her folder with `conda config --add envs_dirs /home/mrunali/miniconda3/envs`\n",
    "3) Clone Mrunali's pre-built environment into your own environment with `conda --clone` and then source that instead."
   ]
  },
  {
   "cell_type": "code",
   "execution_count": 3,
   "id": "6cd97d69f63dc6e0",
   "metadata": {
    "collapsed": false,
    "jupyter": {
     "outputs_hidden": false
    }
   },
   "outputs": [],
   "source": [
    "config = load_global_config()\n",
    "common.plot_utils.set_style()"
   ]
  },
  {
   "cell_type": "markdown",
   "id": "588b90d3",
   "metadata": {
    "collapsed": false,
    "jupyter": {
     "outputs_hidden": false
    }
   },
   "source": [
    "The following cell enables SA score. See instructions in [the rdkik blog](https://greglandrum.github.io/rdkit-blog/posts/2023-12-01-using_sascore_and_npscore.html)\n",
    "You can safely skip it if you are not setting ``sa_score=True`` in function ``plot_top_mols``"
   ]
  },
  {
   "cell_type": "code",
   "execution_count": 4,
   "id": "7bf191409bdf902d",
   "metadata": {
    "collapsed": false,
    "jupyter": {
     "outputs_hidden": false
    }
   },
   "outputs": [],
   "source": [
    "# sys.path.append(os.path.join(os.environ['CONDA_PREFIX'],'share','RDKit','Contrib'))\n",
    "sys.path.append(os.path.join('/home/roger/miniforge3/envs/ms-main','share','RDKit','Contrib'))\n",
    "from SA_Score import sascorer"
   ]
  },
  {
   "cell_type": "markdown",
   "id": "1aadbf83",
   "metadata": {
    "collapsed": false,
    "jupyter": {
     "outputs_hidden": false
    }
   },
   "source": [
    "## Foodome preprocessing"
   ]
  },
  {
   "cell_type": "code",
   "execution_count": 8,
   "outputs": [
    {
     "name": "stderr",
     "output_type": "stream",
     "text": [
      "/tmp/ipykernel_4620/1320738871.py:1: DtypeWarning: Columns (3,4,5,6,7,8,9,10,11) have mixed types. Specify dtype option on import or set low_memory=False.\n",
      "  df = pd.read_csv('/home/roger/ms_collaborators/NEU-Foodome/NDM_compound_identifiers_mit.csv')\n",
      "100%|██████████| 133832/133832 [02:02<00:00, 1096.68it/s]\n"
     ]
    },
    {
     "name": "stdout",
     "output_type": "stream",
     "text": [
      "length of smiles: 84475\n"
     ]
    }
   ],
   "source": [
    "df = pd.read_csv('/home/roger/ms_collaborators/NEU-Foodome/NDM_compound_identifiers_mit.csv')\n",
    "out_dir = Path('/home/roger/ms_collaborators/NEU-Foodome/foodome')\n",
    "out_dir.mkdir(parents=True, exist_ok=True)\n",
    "\n",
    "smiles = []\n",
    "ikeys = []\n",
    "for idx, row in tqdm(df.iterrows(), total=df.shape[0]):\n",
    "    smi = row['rdkit_desalted_isosmiles']\n",
    "    if type(smi) != str:\n",
    "        continue\n",
    "    if len(smi) == 0:\n",
    "        continue\n",
    "    mol = Chem.MolFromSmiles(smi)\n",
    "    if common.is_charged(mol, mol_type='mol') or common.has_separate_components(mol, mol_type='mol') or common.has_isotopes(mol, mol_type='mol') or common.has_unsupported_elems(mol, mol_type='mol') or common.mass_from_smi(smi) > 1500:\n",
    "        continue\n",
    "    else:\n",
    "        mol = common.rm_stereo(mol, mol_type='mol')\n",
    "        smiles.append(Chem.MolToSmiles(mol))\n",
    "        ikeys.append(Chem.MolToInchi(mol))\n",
    "\n",
    "_, idx = np.unique(ikeys, return_index=True)\n",
    "smiles = np.array(smiles)[idx].tolist()\n",
    "smiles = common.sanitize(smiles, 'smi')\n",
    "print(f'length of smiles: {len(smiles)}')"
   ],
   "metadata": {
    "collapsed": false
   }
  },
  {
   "cell_type": "code",
   "execution_count": 32,
   "outputs": [],
   "source": [
    "with open(out_dir / 'candidates.smi', 'w') as f:\n",
    "    f.writelines('\\n'.join(smiles))"
   ],
   "metadata": {
    "collapsed": false
   }
  },
  {
   "cell_type": "code",
   "execution_count": 17,
   "id": "a496c635",
   "metadata": {
    "collapsed": false,
    "jupyter": {
     "outputs_hidden": false
    }
   },
   "outputs": [
    {
     "name": "stdout",
     "output_type": "stream",
     "text": [
      "CUDA_VISIBLE_DEVICES=0 /home/roger/miniforge3/envs/ms-main/bin/python src/ms_pred/dag_pred/predict_smis.py \\\n",
      "               --batch-size 8 \\\n",
      "               --num-workers 6 \\\n",
      "               --dataset-labels /home/roger/.cache/ms-pred/iceberg-elucidation/af589f008e16eef2488a1ab6a8224a98/cands_df_iceberg_elucidation.tsv \\\n",
      "               --sparse-out \\\n",
      "               --sparse-k 100 \\\n",
      "               --max-nodes 100 \\\n",
      "               --threshold 0.0 \\\n",
      "               --gen-checkpoint /home/roger/ms-models/iceberg_results_20241111/dag_nist20/split_1_rnd1/version_0/best.ckpt \\\n",
      "               --inten-checkpoint /home/roger/ms-models/iceberg_results_20241111/dag_inten_nist20/split_1_rnd1/version_1/best.ckpt \\\n",
      "               --save-dir /home/roger/.cache/ms-pred/iceberg-elucidation/af589f008e16eef2488a1ab6a8224a98 \\\n",
      "               --gpu \\\n",
      "               --adduct-shift\n"
     ]
    },
    {
     "name": "stderr",
     "output_type": "stream",
     "text": [
      "Traceback (most recent call last):\n",
      "  File \"/mnt/c/Users/runzh/OneDrive/Documents/2023/ms-pred/src/ms_pred/dag_pred/predict_smis.py\", line 21, in <module>\n",
      "    import pytorch_lightning as pl\n",
      "  File \"/home/roger/miniforge3/envs/ms-main/lib/python3.9/site-packages/pytorch_lightning/__init__.py\", line 30, in <module>\n",
      "    from pytorch_lightning.callbacks import Callback  # noqa: E402\n",
      "  File \"/home/roger/miniforge3/envs/ms-main/lib/python3.9/site-packages/pytorch_lightning/callbacks/__init__.py\", line 14, in <module>\n",
      "    from pytorch_lightning.callbacks.base import Callback\n",
      "  File \"/home/roger/miniforge3/envs/ms-main/lib/python3.9/site-packages/pytorch_lightning/callbacks/base.py\", line 25, in <module>\n",
      "    from pytorch_lightning.utilities.types import STEP_OUTPUT\n",
      "  File \"/home/roger/miniforge3/envs/ms-main/lib/python3.9/site-packages/pytorch_lightning/utilities/types.py\", line 26, in <module>\n",
      "    from torchmetrics import Metric\n",
      "  File \"/home/roger/miniforge3/envs/ms-main/lib/python3.9/site-packages/torchmetrics/__init__.py\", line 26, in <module>\n",
      "    from torchmetrics import functional  # noqa: E402\n",
      "  File \"/home/roger/miniforge3/envs/ms-main/lib/python3.9/site-packages/torchmetrics/functional/__init__.py\", line 14, in <module>\n",
      "    from torchmetrics.functional.audio._deprecated import _permutation_invariant_training as permutation_invariant_training\n",
      "  File \"/home/roger/miniforge3/envs/ms-main/lib/python3.9/site-packages/torchmetrics/functional/audio/__init__.py\", line 44, in <module>\n",
      "    if _PESQ_AVAILABLE:\n",
      "  File \"/home/roger/miniforge3/envs/ms-main/lib/python3.9/site-packages/lightning_utilities/core/imports.py\", line 164, in __bool__\n",
      "    self._check_available()\n",
      "  File \"/home/roger/miniforge3/envs/ms-main/lib/python3.9/site-packages/lightning_utilities/core/imports.py\", line 158, in _check_available\n",
      "    self._check_requirement()\n",
      "  File \"/home/roger/miniforge3/envs/ms-main/lib/python3.9/site-packages/lightning_utilities/core/imports.py\", line 132, in _check_requirement\n",
      "    pkg_resources.require(self.requirement)\n",
      "  File \"/home/roger/miniforge3/envs/ms-main/lib/python3.9/site-packages/pkg_resources/__init__.py\", line 891, in require\n",
      "    needed = self.resolve(parse_requirements(requirements))\n",
      "  File \"/home/roger/miniforge3/envs/ms-main/lib/python3.9/site-packages/pkg_resources/__init__.py\", line 764, in resolve\n",
      "    env = Environment(self.entries)\n",
      "  File \"/home/roger/miniforge3/envs/ms-main/lib/python3.9/site-packages/pkg_resources/__init__.py\", line 975, in __init__\n",
      "    self.scan(search_path)\n",
      "  File \"/home/roger/miniforge3/envs/ms-main/lib/python3.9/site-packages/pkg_resources/__init__.py\", line 1007, in scan\n",
      "    for dist in find_distributions(item):\n",
      "  File \"/home/roger/miniforge3/envs/ms-main/lib/python3.9/site-packages/pkg_resources/__init__.py\", line 2077, in find_on_path\n",
      "    for dist in factory(fullpath):\n",
      "  File \"/home/roger/miniforge3/envs/ms-main/lib/python3.9/site-packages/pkg_resources/__init__.py\", line 2134, in distributions_from_metadata\n",
      "    if os.path.isdir(path):\n",
      "KeyboardInterrupt\n"
     ]
    },
    {
     "ename": "KeyboardInterrupt",
     "evalue": "",
     "output_type": "error",
     "traceback": [
      "\u001B[0;31m---------------------------------------------------------------------------\u001B[0m",
      "\u001B[0;31mKeyboardInterrupt\u001B[0m                         Traceback (most recent call last)",
      "\u001B[0;32m/tmp/ipykernel_4620/2488023359.py\u001B[0m in \u001B[0;36m<cell line: 4>\u001B[0;34m()\u001B[0m\n\u001B[1;32m      2\u001B[0m \u001B[0menu_config\u001B[0m \u001B[0;34m=\u001B[0m \u001B[0mcopy\u001B[0m\u001B[0;34m.\u001B[0m\u001B[0mdeepcopy\u001B[0m\u001B[0;34m(\u001B[0m\u001B[0mconfig\u001B[0m\u001B[0;34m)\u001B[0m\u001B[0;34m\u001B[0m\u001B[0;34m\u001B[0m\u001B[0m\n\u001B[1;32m      3\u001B[0m \u001B[0;34m\u001B[0m\u001B[0m\n\u001B[0;32m----> 4\u001B[0;31m \u001B[0mresult_path\u001B[0m\u001B[0;34m,\u001B[0m \u001B[0mpmz\u001B[0m \u001B[0;34m=\u001B[0m \u001B[0miceberg_prediction\u001B[0m\u001B[0;34m(\u001B[0m\u001B[0msmiles\u001B[0m\u001B[0;34m,\u001B[0m \u001B[0;34m[\u001B[0m\u001B[0;36m45\u001B[0m\u001B[0;34m]\u001B[0m\u001B[0;34m,\u001B[0m \u001B[0;34m**\u001B[0m\u001B[0menu_config\u001B[0m\u001B[0;34m)\u001B[0m\u001B[0;34m\u001B[0m\u001B[0;34m\u001B[0m\u001B[0m\n\u001B[0m",
      "\u001B[0;32m/mnt/c/Users/runzh/OneDrive/Documents/2023/ms-pred/src/ms_pred/dag_pred/iceberg_elucidation.py\u001B[0m in \u001B[0;36miceberg_prediction\u001B[0;34m(candidate_smiles, collision_energies, nce, adduct, exp_name, python_path, gen_ckpt, inten_ckpt, cuda_devices, batch_size, num_workers, sparse_k, max_nodes, threshold, binned_out, ppm, force_recompute, **kwargs)\u001B[0m\n\u001B[1;32m    256\u001B[0m             \u001B[0mcmd\u001B[0m \u001B[0;34m+=\u001B[0m \u001B[0;34m' \\\\           --binned_out'\u001B[0m\u001B[0;34m\u001B[0m\u001B[0;34m\u001B[0m\u001B[0m\n\u001B[1;32m    257\u001B[0m         \u001B[0mprint\u001B[0m\u001B[0;34m(\u001B[0m\u001B[0mcmd\u001B[0m\u001B[0;34m)\u001B[0m\u001B[0;34m\u001B[0m\u001B[0;34m\u001B[0m\u001B[0m\n\u001B[0;32m--> 258\u001B[0;31m         \u001B[0mrun_result\u001B[0m \u001B[0;34m=\u001B[0m \u001B[0msubprocess\u001B[0m\u001B[0;34m.\u001B[0m\u001B[0mrun\u001B[0m\u001B[0;34m(\u001B[0m\u001B[0mcmd\u001B[0m\u001B[0;34m,\u001B[0m \u001B[0mshell\u001B[0m\u001B[0;34m=\u001B[0m\u001B[0;32mTrue\u001B[0m\u001B[0;34m)\u001B[0m\u001B[0;34m\u001B[0m\u001B[0;34m\u001B[0m\u001B[0m\n\u001B[0m\u001B[1;32m    259\u001B[0m         \u001B[0;32mif\u001B[0m \u001B[0mrun_result\u001B[0m\u001B[0;34m.\u001B[0m\u001B[0mreturncode\u001B[0m \u001B[0;34m==\u001B[0m \u001B[0;36m0\u001B[0m\u001B[0;34m:\u001B[0m  \u001B[0;31m# successful\u001B[0m\u001B[0;34m\u001B[0m\u001B[0;34m\u001B[0m\u001B[0m\n\u001B[1;32m    260\u001B[0m             \u001B[0;34m(\u001B[0m\u001B[0msave_dir\u001B[0m \u001B[0;34m/\u001B[0m \u001B[0;34m'iceberg_run_successful'\u001B[0m\u001B[0;34m)\u001B[0m\u001B[0;34m.\u001B[0m\u001B[0mtouch\u001B[0m\u001B[0;34m(\u001B[0m\u001B[0;34m)\u001B[0m\u001B[0;34m\u001B[0m\u001B[0;34m\u001B[0m\u001B[0m\n",
      "\u001B[0;32m~/miniforge3/envs/ms-main/lib/python3.9/subprocess.py\u001B[0m in \u001B[0;36mrun\u001B[0;34m(input, capture_output, timeout, check, *popenargs, **kwargs)\u001B[0m\n\u001B[1;32m    505\u001B[0m     \u001B[0;32mwith\u001B[0m \u001B[0mPopen\u001B[0m\u001B[0;34m(\u001B[0m\u001B[0;34m*\u001B[0m\u001B[0mpopenargs\u001B[0m\u001B[0;34m,\u001B[0m \u001B[0;34m**\u001B[0m\u001B[0mkwargs\u001B[0m\u001B[0;34m)\u001B[0m \u001B[0;32mas\u001B[0m \u001B[0mprocess\u001B[0m\u001B[0;34m:\u001B[0m\u001B[0;34m\u001B[0m\u001B[0;34m\u001B[0m\u001B[0m\n\u001B[1;32m    506\u001B[0m         \u001B[0;32mtry\u001B[0m\u001B[0;34m:\u001B[0m\u001B[0;34m\u001B[0m\u001B[0;34m\u001B[0m\u001B[0m\n\u001B[0;32m--> 507\u001B[0;31m             \u001B[0mstdout\u001B[0m\u001B[0;34m,\u001B[0m \u001B[0mstderr\u001B[0m \u001B[0;34m=\u001B[0m \u001B[0mprocess\u001B[0m\u001B[0;34m.\u001B[0m\u001B[0mcommunicate\u001B[0m\u001B[0;34m(\u001B[0m\u001B[0minput\u001B[0m\u001B[0;34m,\u001B[0m \u001B[0mtimeout\u001B[0m\u001B[0;34m=\u001B[0m\u001B[0mtimeout\u001B[0m\u001B[0;34m)\u001B[0m\u001B[0;34m\u001B[0m\u001B[0;34m\u001B[0m\u001B[0m\n\u001B[0m\u001B[1;32m    508\u001B[0m         \u001B[0;32mexcept\u001B[0m \u001B[0mTimeoutExpired\u001B[0m \u001B[0;32mas\u001B[0m \u001B[0mexc\u001B[0m\u001B[0;34m:\u001B[0m\u001B[0;34m\u001B[0m\u001B[0;34m\u001B[0m\u001B[0m\n\u001B[1;32m    509\u001B[0m             \u001B[0mprocess\u001B[0m\u001B[0;34m.\u001B[0m\u001B[0mkill\u001B[0m\u001B[0;34m(\u001B[0m\u001B[0;34m)\u001B[0m\u001B[0;34m\u001B[0m\u001B[0;34m\u001B[0m\u001B[0m\n",
      "\u001B[0;32m~/miniforge3/envs/ms-main/lib/python3.9/subprocess.py\u001B[0m in \u001B[0;36mcommunicate\u001B[0;34m(self, input, timeout)\u001B[0m\n\u001B[1;32m   1124\u001B[0m                 \u001B[0mstderr\u001B[0m \u001B[0;34m=\u001B[0m \u001B[0mself\u001B[0m\u001B[0;34m.\u001B[0m\u001B[0mstderr\u001B[0m\u001B[0;34m.\u001B[0m\u001B[0mread\u001B[0m\u001B[0;34m(\u001B[0m\u001B[0;34m)\u001B[0m\u001B[0;34m\u001B[0m\u001B[0;34m\u001B[0m\u001B[0m\n\u001B[1;32m   1125\u001B[0m                 \u001B[0mself\u001B[0m\u001B[0;34m.\u001B[0m\u001B[0mstderr\u001B[0m\u001B[0;34m.\u001B[0m\u001B[0mclose\u001B[0m\u001B[0;34m(\u001B[0m\u001B[0;34m)\u001B[0m\u001B[0;34m\u001B[0m\u001B[0;34m\u001B[0m\u001B[0m\n\u001B[0;32m-> 1126\u001B[0;31m             \u001B[0mself\u001B[0m\u001B[0;34m.\u001B[0m\u001B[0mwait\u001B[0m\u001B[0;34m(\u001B[0m\u001B[0;34m)\u001B[0m\u001B[0;34m\u001B[0m\u001B[0;34m\u001B[0m\u001B[0m\n\u001B[0m\u001B[1;32m   1127\u001B[0m         \u001B[0;32melse\u001B[0m\u001B[0;34m:\u001B[0m\u001B[0;34m\u001B[0m\u001B[0;34m\u001B[0m\u001B[0m\n\u001B[1;32m   1128\u001B[0m             \u001B[0;32mif\u001B[0m \u001B[0mtimeout\u001B[0m \u001B[0;32mis\u001B[0m \u001B[0;32mnot\u001B[0m \u001B[0;32mNone\u001B[0m\u001B[0;34m:\u001B[0m\u001B[0;34m\u001B[0m\u001B[0;34m\u001B[0m\u001B[0m\n",
      "\u001B[0;32m~/miniforge3/envs/ms-main/lib/python3.9/subprocess.py\u001B[0m in \u001B[0;36mwait\u001B[0;34m(self, timeout)\u001B[0m\n\u001B[1;32m   1187\u001B[0m             \u001B[0mendtime\u001B[0m \u001B[0;34m=\u001B[0m \u001B[0m_time\u001B[0m\u001B[0;34m(\u001B[0m\u001B[0;34m)\u001B[0m \u001B[0;34m+\u001B[0m \u001B[0mtimeout\u001B[0m\u001B[0;34m\u001B[0m\u001B[0;34m\u001B[0m\u001B[0m\n\u001B[1;32m   1188\u001B[0m         \u001B[0;32mtry\u001B[0m\u001B[0;34m:\u001B[0m\u001B[0;34m\u001B[0m\u001B[0;34m\u001B[0m\u001B[0m\n\u001B[0;32m-> 1189\u001B[0;31m             \u001B[0;32mreturn\u001B[0m \u001B[0mself\u001B[0m\u001B[0;34m.\u001B[0m\u001B[0m_wait\u001B[0m\u001B[0;34m(\u001B[0m\u001B[0mtimeout\u001B[0m\u001B[0;34m=\u001B[0m\u001B[0mtimeout\u001B[0m\u001B[0;34m)\u001B[0m\u001B[0;34m\u001B[0m\u001B[0;34m\u001B[0m\u001B[0m\n\u001B[0m\u001B[1;32m   1190\u001B[0m         \u001B[0;32mexcept\u001B[0m \u001B[0mKeyboardInterrupt\u001B[0m\u001B[0;34m:\u001B[0m\u001B[0;34m\u001B[0m\u001B[0;34m\u001B[0m\u001B[0m\n\u001B[1;32m   1191\u001B[0m             \u001B[0;31m# https://bugs.python.org/issue25942\u001B[0m\u001B[0;34m\u001B[0m\u001B[0;34m\u001B[0m\u001B[0m\n",
      "\u001B[0;32m~/miniforge3/envs/ms-main/lib/python3.9/subprocess.py\u001B[0m in \u001B[0;36m_wait\u001B[0;34m(self, timeout)\u001B[0m\n\u001B[1;32m   1931\u001B[0m                         \u001B[0;32mif\u001B[0m \u001B[0mself\u001B[0m\u001B[0;34m.\u001B[0m\u001B[0mreturncode\u001B[0m \u001B[0;32mis\u001B[0m \u001B[0;32mnot\u001B[0m \u001B[0;32mNone\u001B[0m\u001B[0;34m:\u001B[0m\u001B[0;34m\u001B[0m\u001B[0;34m\u001B[0m\u001B[0m\n\u001B[1;32m   1932\u001B[0m                             \u001B[0;32mbreak\u001B[0m  \u001B[0;31m# Another thread waited.\u001B[0m\u001B[0;34m\u001B[0m\u001B[0;34m\u001B[0m\u001B[0m\n\u001B[0;32m-> 1933\u001B[0;31m                         \u001B[0;34m(\u001B[0m\u001B[0mpid\u001B[0m\u001B[0;34m,\u001B[0m \u001B[0msts\u001B[0m\u001B[0;34m)\u001B[0m \u001B[0;34m=\u001B[0m \u001B[0mself\u001B[0m\u001B[0;34m.\u001B[0m\u001B[0m_try_wait\u001B[0m\u001B[0;34m(\u001B[0m\u001B[0;36m0\u001B[0m\u001B[0;34m)\u001B[0m\u001B[0;34m\u001B[0m\u001B[0;34m\u001B[0m\u001B[0m\n\u001B[0m\u001B[1;32m   1934\u001B[0m                         \u001B[0;31m# Check the pid and loop as waitpid has been known to\u001B[0m\u001B[0;34m\u001B[0m\u001B[0;34m\u001B[0m\u001B[0m\n\u001B[1;32m   1935\u001B[0m                         \u001B[0;31m# return 0 even without WNOHANG in odd situations.\u001B[0m\u001B[0;34m\u001B[0m\u001B[0;34m\u001B[0m\u001B[0m\n",
      "\u001B[0;32m~/miniforge3/envs/ms-main/lib/python3.9/subprocess.py\u001B[0m in \u001B[0;36m_try_wait\u001B[0;34m(self, wait_flags)\u001B[0m\n\u001B[1;32m   1889\u001B[0m             \u001B[0;34m\"\"\"All callers to this function MUST hold self._waitpid_lock.\"\"\"\u001B[0m\u001B[0;34m\u001B[0m\u001B[0;34m\u001B[0m\u001B[0m\n\u001B[1;32m   1890\u001B[0m             \u001B[0;32mtry\u001B[0m\u001B[0;34m:\u001B[0m\u001B[0;34m\u001B[0m\u001B[0;34m\u001B[0m\u001B[0m\n\u001B[0;32m-> 1891\u001B[0;31m                 \u001B[0;34m(\u001B[0m\u001B[0mpid\u001B[0m\u001B[0;34m,\u001B[0m \u001B[0msts\u001B[0m\u001B[0;34m)\u001B[0m \u001B[0;34m=\u001B[0m \u001B[0mos\u001B[0m\u001B[0;34m.\u001B[0m\u001B[0mwaitpid\u001B[0m\u001B[0;34m(\u001B[0m\u001B[0mself\u001B[0m\u001B[0;34m.\u001B[0m\u001B[0mpid\u001B[0m\u001B[0;34m,\u001B[0m \u001B[0mwait_flags\u001B[0m\u001B[0;34m)\u001B[0m\u001B[0;34m\u001B[0m\u001B[0;34m\u001B[0m\u001B[0m\n\u001B[0m\u001B[1;32m   1892\u001B[0m             \u001B[0;32mexcept\u001B[0m \u001B[0mChildProcessError\u001B[0m\u001B[0;34m:\u001B[0m\u001B[0;34m\u001B[0m\u001B[0;34m\u001B[0m\u001B[0m\n\u001B[1;32m   1893\u001B[0m                 \u001B[0;31m# This happens if SIGCLD is set to be ignored or waiting\u001B[0m\u001B[0;34m\u001B[0m\u001B[0;34m\u001B[0m\u001B[0m\n",
      "\u001B[0;31mKeyboardInterrupt\u001B[0m: "
     ]
    }
   ],
   "source": [
    "# Run prediction. It's run remotely on molgpu\n",
    "enu_config = copy.deepcopy(config)\n",
    "\n",
    "result_path, pmz = iceberg_prediction(smiles, [45], **enu_config)"
   ]
  },
  {
   "cell_type": "code",
   "execution_count": 18,
   "outputs": [
    {
     "name": "stderr",
     "output_type": "stream",
     "text": [
      "100%|██████████| 84425/84425 [00:20<00:00, 4135.00it/s]\n"
     ]
    }
   ],
   "source": [
    "# parse spectrum\n",
    "# result_path: path to hdf5 file\n",
    "out_dir = Path('/home/roger/ms_collaborators/NEU-Foodome/foodome')\n",
    "smiles, pred_specs, pred_frags = load_pred_spec(out_dir, False)\n",
    "meta_spec_list = []\n",
    "for smi, pred_spec in zip(smiles, pred_specs):\n",
    "    pmass = common.mass_from_smi(smi) + common.ion2mass['[M+H]+']\n",
    "    for ev, spec in pred_spec.items():\n",
    "        spec[:, 1] *= 100\n",
    "        meta = {\n",
    "            'PEPMASS': pmass,\n",
    "            'SMILES': smi,\n",
    "            'IKEY': common.inchikey_from_smiles(smi),\n",
    "            'COLLISION_ENERGY': ev,\n",
    "        }\n",
    "        meta_spec_list.append((meta, [('spec', spec)]))\n",
    "\n",
    "mgf_outstr = common.build_mgf_str(meta_spec_list)\n",
    "\n",
    "with open(out_dir / 'NDM_compound_pred.mgf', 'w') as f:\n",
    "    f.write(mgf_outstr)\n"
   ],
   "metadata": {
    "collapsed": false
   }
  },
  {
   "cell_type": "markdown",
   "source": [
    "# Known compounds 20250319"
   ],
   "metadata": {
    "collapsed": false
   }
  },
  {
   "cell_type": "code",
   "execution_count": 24,
   "outputs": [
    {
     "name": "stderr",
     "output_type": "stream",
     "text": [
      "100%|██████████| 728/728 [00:01<00:00, 530.98it/s]\n"
     ]
    },
    {
     "name": "stdout",
     "output_type": "stream",
     "text": [
      "length of smiles: 688\n"
     ]
    }
   ],
   "source": [
    "df = pd.read_csv('/home/roger/ms_collaborators/NEU-Foodome/foodb_selected_compounds.csv')\n",
    "\n",
    "smiles = []\n",
    "energies = []\n",
    "ikeys = []\n",
    "for idx, row in tqdm(df.iterrows(), total=df.shape[0]):\n",
    "    smi = row['canonical_smiles']\n",
    "    ce = row['collision_energy(ev)']\n",
    "    if type(smi) != str:\n",
    "        continue\n",
    "    if len(smi) == 0:\n",
    "        continue\n",
    "    mol = Chem.MolFromSmiles(smi)\n",
    "    if common.is_charged(mol, mol_type='mol') or common.has_separate_components(mol, mol_type='mol') or common.has_isotopes(mol, mol_type='mol') or common.has_unsupported_elems(mol, mol_type='mol') or common.mass_from_smi(smi) > 1500:\n",
    "        continue\n",
    "    ikey = Chem.MolToInchi(mol)\n",
    "    if ikey in ikeys:\n",
    "        idx = ikeys.index(ikey)\n",
    "        if ce not in energies[idx]:\n",
    "            energies[idx].append(ce)\n",
    "    else:\n",
    "        mol = common.rm_stereo(mol, mol_type='mol')\n",
    "        smiles.append(Chem.MolToSmiles(mol))\n",
    "        ikeys.append(ikey)\n",
    "        energies.append([ce])\n",
    "\n",
    "_, idx = np.unique(ikeys, return_index=True)\n",
    "smiles = np.array(smiles)[idx].tolist()\n",
    "energies = [energies[i] for i in idx]\n",
    "# smiles = common.sanitize(smiles, 'smi')\n",
    "print(f'length of smiles: {len(smiles)}')"
   ],
   "metadata": {
    "collapsed": false
   }
  },
  {
   "cell_type": "code",
   "execution_count": 25,
   "outputs": [
    {
     "name": "stdout",
     "output_type": "stream",
     "text": [
      "CUDA_VISIBLE_DEVICES=0 /home/roger/miniforge3/envs/ms-main/bin/python src/ms_pred/dag_pred/predict_smis.py \\\n",
      "               --batch-size 8 \\\n",
      "               --num-workers 6 \\\n",
      "               --dataset-labels /home/roger/.cache/ms-pred/iceberg-elucidation/2175ada67dc4949c941e548e0f651216/cands_df_iceberg_elucidation.tsv \\\n",
      "               --sparse-out \\\n",
      "               --sparse-k 100 \\\n",
      "               --max-nodes 100 \\\n",
      "               --threshold 0.0 \\\n",
      "               --gen-checkpoint /home/roger/ms-models/iceberg_results_20241111/dag_nist20/split_1_rnd1/version_0/best.ckpt \\\n",
      "               --inten-checkpoint /home/roger/ms-models/iceberg_results_20241111/dag_inten_nist20/split_1_rnd1/version_1/best.ckpt \\\n",
      "               --save-dir /home/roger/.cache/ms-pred/iceberg-elucidation/2175ada67dc4949c941e548e0f651216 \\\n",
      "               --gpu \\\n",
      "               --adduct-shift\n"
     ]
    },
    {
     "name": "stderr",
     "output_type": "stream",
     "text": [
      "Global seed set to 42\n"
     ]
    },
    {
     "name": "stdout",
     "output_type": "stream",
     "text": [
      "2025-03-19 18:48:01,321 INFO: \n",
      "adduct_shift: true\n",
      "batch_size: 8\n",
      "binned_out: false\n",
      "dataset_labels: /home/roger/.cache/ms-pred/iceberg-elucidation/2175ada67dc4949c941e548e0f651216/cands_df_iceberg_elucidation.tsv\n",
      "dataset_name: null\n",
      "debug: false\n",
      "gen_checkpoint: /home/roger/ms-models/iceberg_results_20241111/dag_nist20/split_1_rnd1/version_0/best.ckpt\n",
      "gpu: true\n",
      "inten_checkpoint: /home/roger/ms-models/iceberg_results_20241111/dag_inten_nist20/split_1_rnd1/version_1/best.ckpt\n",
      "max_nodes: 100\n",
      "num_bins: 15000\n",
      "num_workers: 6\n",
      "save_dir: /home/roger/.cache/ms-pred/iceberg-elucidation/2175ada67dc4949c941e548e0f651216\n",
      "seed: 42\n",
      "sparse_k: 100\n",
      "sparse_out: true\n",
      "split_name: split_22.tsv\n",
      "subset_datasets: none\n",
      "threshold: 0.0\n",
      "upper_limit: 1500\n",
      "\n",
      "2025-03-19 18:48:01,527 INFO: Loaded gen / inten models from /home/roger/ms-models/iceberg_results_20241111/dag_nist20/split_1_rnd1/version_0/best.ckpt & /home/roger/ms-models/iceberg_results_20241111/dag_inten_nist20/split_1_rnd1/version_1/best.ckpt\n",
      "2025-03-19 18:48:01,753 INFO: Preparing entries\n"
     ]
    },
    {
     "name": "stderr",
     "output_type": "stream",
     "text": [
      "100%|██████████| 688/688 [00:06<00:00, 109.66it/s]\n",
      "  0%|          | 0/89 [00:00<?, ?it/s]"
     ]
    },
    {
     "name": "stdout",
     "output_type": "stream",
     "text": [
      "2025-03-19 18:48:08,149 INFO: There are 712 entries to process\n"
     ]
    },
    {
     "name": "stderr",
     "output_type": "stream",
     "text": [
      "100%|██████████| 89/89 [00:22<00:00,  3.88it/s]\n"
     ]
    },
    {
     "name": "stdout",
     "output_type": "stream",
     "text": [
      "2025-03-19 18:48:31,107 INFO: Program finished in: 29.791834592819214 seconds\n"
     ]
    }
   ],
   "source": [
    "enu_config = copy.deepcopy(config)\n",
    "\n",
    "result_path, pmz = iceberg_prediction(smiles, energies, **enu_config)"
   ],
   "metadata": {
    "collapsed": false
   }
  },
  {
   "cell_type": "code",
   "execution_count": 26,
   "outputs": [
    {
     "name": "stderr",
     "output_type": "stream",
     "text": [
      "100%|██████████| 712/712 [00:00<00:00, 2708.90it/s]\n"
     ]
    }
   ],
   "source": [
    "smiles, pred_specs, pred_frags = load_pred_spec(result_path, False)\n",
    "meta_spec_list = []\n",
    "for smi, pred_spec in zip(smiles, pred_specs):\n",
    "    pmass = common.mass_from_smi(smi) + common.ion2mass['[M+H]+']\n",
    "    for ev, spec in pred_spec.items():\n",
    "        spec[:, 1] *= 100\n",
    "        meta = {\n",
    "            'PEPMASS': pmass,\n",
    "            'SMILES': smi,\n",
    "            'IKEY': common.inchikey_from_smiles(smi),\n",
    "            'COLLISION_ENERGY': ev,\n",
    "        }\n",
    "        meta_spec_list.append((meta, [('spec', spec)]))\n",
    "\n",
    "mgf_outstr = common.build_mgf_str(meta_spec_list)\n",
    "\n",
    "with open(out_dir / 'foodb_selected_compounds_pred.mgf', 'w') as f:\n",
    "    f.write(mgf_outstr)\n"
   ],
   "metadata": {
    "collapsed": false
   }
  }
 ],
 "metadata": {
  "kernelspec": {
   "display_name": "ms-main",
   "language": "python",
   "name": "ms-main"
  },
  "language_info": {
   "codemirror_mode": {
    "name": "ipython",
    "version": 3
   },
   "file_extension": ".py",
   "mimetype": "text/x-python",
   "name": "python",
   "nbconvert_exporter": "python",
   "pygments_lexer": "ipython3",
   "version": "3.9.18"
  }
 },
 "nbformat": 4,
 "nbformat_minor": 5
}
